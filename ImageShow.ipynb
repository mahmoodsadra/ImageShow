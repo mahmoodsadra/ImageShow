{
 "cells": [
  {
   "cell_type": "code",
   "execution_count": 7,
   "metadata": {
    "tags": []
   },
   "outputs": [
    {
     "output_type": "stream",
     "name": "stdout",
     "text": "https://www.google.com/search?q=شهیدزینالدین&source=lnms&tbm=isch\n100%|████████████████████| 48/48 [00:14<00:00,  3.25it/s]\n"
    }
   ],
   "source": [
    "%run -i crawler.py --keyword شهیدزینالدین --count 60"
   ]
  },
  {
   "cell_type": "code",
   "execution_count": 11,
   "metadata": {},
   "outputs": [],
   "source": [
    "import os\n",
    "import sys\n",
    "\n",
    "# Root directory of the project\n",
    "ROOT_DIR = os.path.abspath(\"./\")\n",
    "\n",
    "\n",
    "sys.path.append(ROOT_DIR)  # To find local version of the library\n",
    "\n",
    "\n",
    "os.rename(\"شهیدزینالدین\",\"pic\")\n",
    "\n",
    "\n",
    "\n",
    "file_names = next(os.walk(IMAGE_DIR))[2]\n",
    "\n",
    "\n",
    "strTable = '<table  align=\"center\" border=\"1\">\\n'\n",
    "\n",
    "strTable = strTable\n",
    "\n",
    "strRW = \"\"\n",
    "picnum = 0\n",
    "for r in range(8):\n",
    "    strRW = strRW + '<tr>'\n",
    "    for c in range(6):\n",
    "        strRW = strRW + '<td><img src= \"pic/' + file_names[picnum] + '\" width=\"200\"></td>'\n",
    "        picnum = picnum + 1\n",
    "    strRW = strRW +\"</tr>\\n\"\n",
    "\n",
    "strTable = strTable+strRW\n",
    "\n",
    "       \n",
    "strTable = strTable+\"</table>\"\n",
    " \n",
    "hs = open(\"results.html\", 'w')\n",
    "hs.write(strTable)\n",
    "hs.close() \n",
    "\n",
    "hs = open(\"README.md\", 'w')\n",
    "hs.write(strTable)\n",
    "hs.close() \n"
   ]
  },
  {
   "cell_type": "code",
   "execution_count": null,
   "metadata": {},
   "outputs": [],
   "source": []
  }
 ],
 "metadata": {
  "language_info": {
   "codemirror_mode": {
    "name": "ipython",
    "version": 3
   },
   "file_extension": ".py",
   "mimetype": "text/x-python",
   "name": "python",
   "nbconvert_exporter": "python",
   "pygments_lexer": "ipython3",
   "version": 3
  },
  "orig_nbformat": 2,
  "kernelspec": {
   "name": "python_defaultSpec_1594132488480",
   "display_name": "Python 3.7.3 64-bit"
  }
 },
 "nbformat": 4,
 "nbformat_minor": 2
}